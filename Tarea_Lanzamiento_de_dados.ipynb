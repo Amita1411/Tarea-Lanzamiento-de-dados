{
  "nbformat": 4,
  "nbformat_minor": 0,
  "metadata": {
    "colab": {
      "provenance": []
    },
    "kernelspec": {
      "name": "python3",
      "display_name": "Python 3"
    },
    "language_info": {
      "name": "python"
    }
  },
  "cells": [
    {
      "cell_type": "markdown",
      "source": [
        "# Lanzamiento de dos dados"
      ],
      "metadata": {
        "id": "Zc9c6fpH7tOx"
      }
    },
    {
      "cell_type": "code",
      "source": [
        "from itertools import product\n",
        "from fractions import Fraction"
      ],
      "metadata": {
        "id": "3D7SUivV_XGG"
      },
      "execution_count": null,
      "outputs": []
    },
    {
      "cell_type": "code",
      "source": [
        "def P(A, Omega):\n",
        "  P = Fraction(len(A), len(Omega) )\n",
        "  return P"
      ],
      "metadata": {
        "id": "NMZ4hgiKEIu0"
      },
      "execution_count": null,
      "outputs": []
    },
    {
      "cell_type": "code",
      "source": [
        "L = [i for i in range(1,7)]\n",
        "\n",
        "Omega = set(product(L, repeat =2 ))\n",
        "Omega"
      ],
      "metadata": {
        "colab": {
          "base_uri": "https://localhost:8080/"
        },
        "id": "WiGgELw9FrJy",
        "outputId": "c84b8b16-b832-4b44-e883-531bf7d95475"
      },
      "execution_count": null,
      "outputs": [
        {
          "output_type": "execute_result",
          "data": {
            "text/plain": [
              "{(1, 1),\n",
              " (1, 2),\n",
              " (1, 3),\n",
              " (1, 4),\n",
              " (1, 5),\n",
              " (1, 6),\n",
              " (2, 1),\n",
              " (2, 2),\n",
              " (2, 3),\n",
              " (2, 4),\n",
              " (2, 5),\n",
              " (2, 6),\n",
              " (3, 1),\n",
              " (3, 2),\n",
              " (3, 3),\n",
              " (3, 4),\n",
              " (3, 5),\n",
              " (3, 6),\n",
              " (4, 1),\n",
              " (4, 2),\n",
              " (4, 3),\n",
              " (4, 4),\n",
              " (4, 5),\n",
              " (4, 6),\n",
              " (5, 1),\n",
              " (5, 2),\n",
              " (5, 3),\n",
              " (5, 4),\n",
              " (5, 5),\n",
              " (5, 6),\n",
              " (6, 1),\n",
              " (6, 2),\n",
              " (6, 3),\n",
              " (6, 4),\n",
              " (6, 5),\n",
              " (6, 6)}"
            ]
          },
          "metadata": {},
          "execution_count": 3
        }
      ]
    },
    {
      "cell_type": "code",
      "source": [
        "import pandas as pd\n",
        "from collections import defaultdict"
      ],
      "metadata": {
        "id": "wOjQu9ZlJn09"
      },
      "execution_count": 7,
      "outputs": []
    },
    {
      "cell_type": "markdown",
      "source": [
        "### Ejercicios:\n",
        "1.- Documenta tu colab.\n",
        "\n",
        "2.- Calcula la ley de las siguientes variables aleatorias:\n",
        "\n",
        "1.          - La diferencia de las caras sea mayor que $1$.\n",
        "\n",
        "    - La suma de las caras sea par.\n",
        "\n",
        "3.- Verifica, en cada caso, que $$\\sum_{k\\in R_{X}}\\mathbb{P}(X=x)=1.$$\n",
        "\n",
        "4.- Sube tu notebook a tu GitHub.\n",
        "\n",
        "\n"
      ],
      "metadata": {
        "id": "fqIGXqIiPZZM"
      }
    },
    {
      "cell_type": "markdown",
      "source": [
        "## TAREA\n",
        "## ANDRES AMITA REYES CERECEDO"
      ],
      "metadata": {
        "id": "stZO8vE_9glW"
      }
    },
    {
      "cell_type": "markdown",
      "source": [
        "1.\n",
        "$Q$ es la variable aleatoria de la diferencia de las caras de los dados.\n",
        "\n",
        "$$Q:\\Omega \\to R_{Q}=\\{-5, -4, -3, -2, -1, 0, 1,2, 3,4,5 \\}$$\n"
      ],
      "metadata": {
        "id": "5_JeyxgQ-hcK"
      }
    },
    {
      "cell_type": "code",
      "source": [
        "Q = {(i,j): (i-j) for i,j in Omega }\n",
        "\n",
        "Q"
      ],
      "metadata": {
        "colab": {
          "base_uri": "https://localhost:8080/"
        },
        "id": "t-KwtC2D9lRI",
        "outputId": "fda670e0-7f08-4fbf-ae87-67f83c873cb4"
      },
      "execution_count": null,
      "outputs": [
        {
          "output_type": "execute_result",
          "data": {
            "text/plain": [
              "{(3, 4): -1,\n",
              " (4, 3): 1,\n",
              " (3, 1): 2,\n",
              " (5, 4): 1,\n",
              " (4, 6): -2,\n",
              " (5, 1): 4,\n",
              " (2, 2): 0,\n",
              " (1, 6): -5,\n",
              " (2, 5): -3,\n",
              " (1, 3): -2,\n",
              " (6, 2): 4,\n",
              " (6, 5): 1,\n",
              " (4, 2): 2,\n",
              " (4, 5): -1,\n",
              " (3, 3): 0,\n",
              " (5, 6): -1,\n",
              " (3, 6): -3,\n",
              " (5, 3): 2,\n",
              " (2, 4): -2,\n",
              " (1, 2): -1,\n",
              " (2, 1): 1,\n",
              " (1, 5): -4,\n",
              " (6, 1): 5,\n",
              " (6, 4): 2,\n",
              " (3, 2): 1,\n",
              " (4, 1): 3,\n",
              " (3, 5): -2,\n",
              " (5, 2): 3,\n",
              " (4, 4): 0,\n",
              " (5, 5): 0,\n",
              " (1, 1): 0,\n",
              " (1, 4): -3,\n",
              " (2, 3): -1,\n",
              " (2, 6): -4,\n",
              " (6, 6): 0,\n",
              " (6, 3): 3}"
            ]
          },
          "metadata": {},
          "execution_count": 5
        }
      ]
    },
    {
      "cell_type": "code",
      "source": [
        "\n",
        "dQ = defaultdict(set)\n",
        "dQ"
      ],
      "metadata": {
        "id": "O137dfCFQ4FX",
        "colab": {
          "base_uri": "https://localhost:8080/"
        },
        "outputId": "d89ef8b0-0673-4b1a-ce5a-3c08aa5bd507"
      },
      "execution_count": 8,
      "outputs": [
        {
          "output_type": "execute_result",
          "data": {
            "text/plain": [
              "defaultdict(set, {})"
            ]
          },
          "metadata": {},
          "execution_count": 8
        }
      ]
    },
    {
      "cell_type": "code",
      "source": [
        "for l, v in Q.items():\n",
        "  dQ[v].add(l)"
      ],
      "metadata": {
        "id": "AkP7veK2_XHq"
      },
      "execution_count": 9,
      "outputs": []
    },
    {
      "cell_type": "code",
      "source": [
        "dQ"
      ],
      "metadata": {
        "colab": {
          "base_uri": "https://localhost:8080/"
        },
        "id": "a9tGXlUG_cMw",
        "outputId": "5fba915a-e6e7-4181-d444-78ab0d512653"
      },
      "execution_count": 10,
      "outputs": [
        {
          "output_type": "execute_result",
          "data": {
            "text/plain": [
              "defaultdict(set,\n",
              "            {-1: {(1, 2), (2, 3), (3, 4), (4, 5), (5, 6)},\n",
              "             1: {(2, 1), (3, 2), (4, 3), (5, 4), (6, 5)},\n",
              "             2: {(3, 1), (4, 2), (5, 3), (6, 4)},\n",
              "             -2: {(1, 3), (2, 4), (3, 5), (4, 6)},\n",
              "             4: {(5, 1), (6, 2)},\n",
              "             0: {(1, 1), (2, 2), (3, 3), (4, 4), (5, 5), (6, 6)},\n",
              "             -5: {(1, 6)},\n",
              "             -3: {(1, 4), (2, 5), (3, 6)},\n",
              "             -4: {(1, 5), (2, 6)},\n",
              "             5: {(6, 1)},\n",
              "             3: {(4, 1), (5, 2), (6, 3)}})"
            ]
          },
          "metadata": {},
          "execution_count": 10
        }
      ]
    },
    {
      "cell_type": "code",
      "source": [
        "leyQ = {k : P(A,Omega) for k , A in dQ.items() }\n",
        "leyQ"
      ],
      "metadata": {
        "colab": {
          "base_uri": "https://localhost:8080/"
        },
        "id": "uvEe-8Ns_9p5",
        "outputId": "cb266c5a-3dde-4e84-b420-24ecd83f2253"
      },
      "execution_count": 11,
      "outputs": [
        {
          "output_type": "execute_result",
          "data": {
            "text/plain": [
              "{-1: Fraction(5, 36),\n",
              " 1: Fraction(5, 36),\n",
              " 2: Fraction(1, 9),\n",
              " -2: Fraction(1, 9),\n",
              " 4: Fraction(1, 18),\n",
              " 0: Fraction(1, 6),\n",
              " -5: Fraction(1, 36),\n",
              " -3: Fraction(1, 12),\n",
              " -4: Fraction(1, 18),\n",
              " 5: Fraction(1, 36),\n",
              " 3: Fraction(1, 12)}"
            ]
          },
          "metadata": {},
          "execution_count": 11
        }
      ]
    },
    {
      "cell_type": "code",
      "source": [
        "leyQ = pd.Series(leyQ)\n",
        "leyQ = leyQ.sort_index()"
      ],
      "metadata": {
        "id": "Kwcgob18Bo9T"
      },
      "execution_count": 12,
      "outputs": []
    },
    {
      "cell_type": "code",
      "source": [
        "leyQ"
      ],
      "metadata": {
        "colab": {
          "base_uri": "https://localhost:8080/"
        },
        "id": "JARIfY3lBucL",
        "outputId": "b210c4e5-534e-4c37-8285-4d52f64ccb57"
      },
      "execution_count": 13,
      "outputs": [
        {
          "output_type": "execute_result",
          "data": {
            "text/plain": [
              "-5    1/36\n",
              "-4    1/18\n",
              "-3    1/12\n",
              "-2     1/9\n",
              "-1    5/36\n",
              " 0     1/6\n",
              " 1    5/36\n",
              " 2     1/9\n",
              " 3    1/12\n",
              " 4    1/18\n",
              " 5    1/36\n",
              "dtype: object"
            ]
          },
          "metadata": {},
          "execution_count": 13
        }
      ]
    },
    {
      "cell_type": "markdown",
      "source": [
        "Verficaremos que:\n",
        "$$\\sum_{k\\in R_{Q}}\\mathbb{P}(X=x)=1.$$"
      ],
      "metadata": {
        "id": "jkyoZBFrIy9r"
      }
    },
    {
      "cell_type": "code",
      "source": [
        "leyQ.sum()\n"
      ],
      "metadata": {
        "colab": {
          "base_uri": "https://localhost:8080/"
        },
        "id": "8BYiWG8aC228",
        "outputId": "c3997d8e-71da-4adf-a664-76552a657032"
      },
      "execution_count": 14,
      "outputs": [
        {
          "output_type": "execute_result",
          "data": {
            "text/plain": [
              "Fraction(1, 1)"
            ]
          },
          "metadata": {},
          "execution_count": 14
        }
      ]
    },
    {
      "cell_type": "markdown",
      "source": [
        "Ahora, nos piden que las diferencias de las caras sean mayores a 1"
      ],
      "metadata": {
        "id": "isWJ2v2jdmt3"
      }
    },
    {
      "cell_type": "code",
      "source": [
        "Q1 = {(i,j): (i-j) for i,j in Omega if i-j >1 }\n",
        "\n",
        "Q1"
      ],
      "metadata": {
        "colab": {
          "base_uri": "https://localhost:8080/"
        },
        "id": "3LpL39_5dl-Y",
        "outputId": "7e780dbc-43ab-4fdc-c031-f8168cbb7d10"
      },
      "execution_count": 15,
      "outputs": [
        {
          "output_type": "execute_result",
          "data": {
            "text/plain": [
              "{(3, 1): 2,\n",
              " (5, 1): 4,\n",
              " (6, 2): 4,\n",
              " (4, 2): 2,\n",
              " (5, 3): 2,\n",
              " (6, 1): 5,\n",
              " (6, 4): 2,\n",
              " (4, 1): 3,\n",
              " (5, 2): 3,\n",
              " (6, 3): 3}"
            ]
          },
          "metadata": {},
          "execution_count": 15
        }
      ]
    },
    {
      "cell_type": "code",
      "source": [
        "dQ1 = defaultdict(set)\n",
        "dQ1"
      ],
      "metadata": {
        "colab": {
          "base_uri": "https://localhost:8080/"
        },
        "id": "-gE9KCILex0P",
        "outputId": "b99ae3ec-9bd4-4e00-8021-5997ca1b8007"
      },
      "execution_count": 16,
      "outputs": [
        {
          "output_type": "execute_result",
          "data": {
            "text/plain": [
              "defaultdict(set, {})"
            ]
          },
          "metadata": {},
          "execution_count": 16
        }
      ]
    },
    {
      "cell_type": "code",
      "source": [
        "for l, v in Q1.items():\n",
        "  dQ1[v].add(l)"
      ],
      "metadata": {
        "id": "whmyKt7de2cW"
      },
      "execution_count": 17,
      "outputs": []
    },
    {
      "cell_type": "code",
      "source": [
        "dQ1"
      ],
      "metadata": {
        "colab": {
          "base_uri": "https://localhost:8080/"
        },
        "id": "W5epe4EGe-Z4",
        "outputId": "c43f983a-d3c2-488b-dd7c-cdd6e3078db8"
      },
      "execution_count": 18,
      "outputs": [
        {
          "output_type": "execute_result",
          "data": {
            "text/plain": [
              "defaultdict(set,\n",
              "            {2: {(3, 1), (4, 2), (5, 3), (6, 4)},\n",
              "             4: {(5, 1), (6, 2)},\n",
              "             5: {(6, 1)},\n",
              "             3: {(4, 1), (5, 2), (6, 3)}})"
            ]
          },
          "metadata": {},
          "execution_count": 18
        }
      ]
    },
    {
      "cell_type": "code",
      "source": [
        "leyQ1 = {k : P(A,Omega) for k , A in dQ1.items() }\n",
        "leyQ1"
      ],
      "metadata": {
        "colab": {
          "base_uri": "https://localhost:8080/"
        },
        "id": "4vWO-XyyfAK7",
        "outputId": "3196f543-103e-47bb-e88f-4078d71d3a8a"
      },
      "execution_count": 19,
      "outputs": [
        {
          "output_type": "execute_result",
          "data": {
            "text/plain": [
              "{2: Fraction(1, 9), 4: Fraction(1, 18), 5: Fraction(1, 36), 3: Fraction(1, 12)}"
            ]
          },
          "metadata": {},
          "execution_count": 19
        }
      ]
    },
    {
      "cell_type": "code",
      "source": [
        "leyQ1 = pd.Series(leyQ1)\n",
        "leyQ1 = leyQ1.sort_index()"
      ],
      "metadata": {
        "id": "Ifq3oCxSfHp3"
      },
      "execution_count": 20,
      "outputs": []
    },
    {
      "cell_type": "markdown",
      "source": [
        "Entonces estas son las diferencias donde son mayores a uno"
      ],
      "metadata": {
        "id": "t0Ei3Yn8fanL"
      }
    },
    {
      "cell_type": "code",
      "source": [
        "leyQ1"
      ],
      "metadata": {
        "colab": {
          "base_uri": "https://localhost:8080/"
        },
        "id": "Q1HBW_abfL4k",
        "outputId": "7c903f1a-a762-44e9-c0db-88ba48860677"
      },
      "execution_count": 21,
      "outputs": [
        {
          "output_type": "execute_result",
          "data": {
            "text/plain": [
              "2     1/9\n",
              "3    1/12\n",
              "4    1/18\n",
              "5    1/36\n",
              "dtype: object"
            ]
          },
          "metadata": {},
          "execution_count": 21
        }
      ]
    },
    {
      "cell_type": "markdown",
      "source": [
        "Entonces si queremos P(Q>1) es:"
      ],
      "metadata": {
        "id": "jVl-TdcSfPv-"
      }
    },
    {
      "cell_type": "code",
      "source": [
        "leyQ1.sum()"
      ],
      "metadata": {
        "colab": {
          "base_uri": "https://localhost:8080/"
        },
        "id": "5ulXFcP2gJPt",
        "outputId": "7da7c2f3-e3da-427a-b127-6068afbe5587"
      },
      "execution_count": 22,
      "outputs": [
        {
          "output_type": "execute_result",
          "data": {
            "text/plain": [
              "Fraction(5, 18)"
            ]
          },
          "metadata": {},
          "execution_count": 22
        }
      ]
    },
    {
      "cell_type": "markdown",
      "source": [
        "2. $Y$ es la variable aleatoria de la suma de las caras de los dados.\n",
        "\n",
        "$$Y:\\Omega \\to R_{Y}=\\{2,3,4,5,6,7,8,9,10,11,12\\}$$"
      ],
      "metadata": {
        "id": "2GknPrSmgwb8"
      }
    },
    {
      "cell_type": "code",
      "source": [
        "Y = {(i,j): i + j for i,j in Omega }\n",
        "\n",
        "Y"
      ],
      "metadata": {
        "colab": {
          "base_uri": "https://localhost:8080/"
        },
        "id": "x7aP45ZmhGSO",
        "outputId": "36844d65-dc6e-446f-c803-e1cea5c7f843"
      },
      "execution_count": 23,
      "outputs": [
        {
          "output_type": "execute_result",
          "data": {
            "text/plain": [
              "{(3, 4): 7,\n",
              " (4, 3): 7,\n",
              " (3, 1): 4,\n",
              " (5, 4): 9,\n",
              " (4, 6): 10,\n",
              " (5, 1): 6,\n",
              " (2, 2): 4,\n",
              " (1, 6): 7,\n",
              " (2, 5): 7,\n",
              " (1, 3): 4,\n",
              " (6, 2): 8,\n",
              " (6, 5): 11,\n",
              " (4, 2): 6,\n",
              " (4, 5): 9,\n",
              " (3, 3): 6,\n",
              " (5, 6): 11,\n",
              " (3, 6): 9,\n",
              " (5, 3): 8,\n",
              " (2, 4): 6,\n",
              " (1, 2): 3,\n",
              " (2, 1): 3,\n",
              " (1, 5): 6,\n",
              " (6, 1): 7,\n",
              " (6, 4): 10,\n",
              " (3, 2): 5,\n",
              " (4, 1): 5,\n",
              " (3, 5): 8,\n",
              " (5, 2): 7,\n",
              " (4, 4): 8,\n",
              " (5, 5): 10,\n",
              " (1, 1): 2,\n",
              " (1, 4): 5,\n",
              " (2, 3): 5,\n",
              " (2, 6): 8,\n",
              " (6, 6): 12,\n",
              " (6, 3): 9}"
            ]
          },
          "metadata": {},
          "execution_count": 23
        }
      ]
    },
    {
      "cell_type": "code",
      "source": [
        "dY = defaultdict(set)\n",
        "dY"
      ],
      "metadata": {
        "colab": {
          "base_uri": "https://localhost:8080/"
        },
        "id": "adfsuMIghPL3",
        "outputId": "969681f0-3ba0-4d65-bdce-c10eacb189d6"
      },
      "execution_count": 24,
      "outputs": [
        {
          "output_type": "execute_result",
          "data": {
            "text/plain": [
              "defaultdict(set, {})"
            ]
          },
          "metadata": {},
          "execution_count": 24
        }
      ]
    },
    {
      "cell_type": "code",
      "source": [
        "for l, v in Y.items():\n",
        "  dY[v].add(l)"
      ],
      "metadata": {
        "id": "7jvtcdckhVax"
      },
      "execution_count": 25,
      "outputs": []
    },
    {
      "cell_type": "code",
      "source": [
        "dY"
      ],
      "metadata": {
        "colab": {
          "base_uri": "https://localhost:8080/"
        },
        "id": "eA6MDDxmhfFx",
        "outputId": "fae8c105-e2b9-4c51-9ef7-50f03b656daf"
      },
      "execution_count": 26,
      "outputs": [
        {
          "output_type": "execute_result",
          "data": {
            "text/plain": [
              "defaultdict(set,\n",
              "            {7: {(1, 6), (2, 5), (3, 4), (4, 3), (5, 2), (6, 1)},\n",
              "             4: {(1, 3), (2, 2), (3, 1)},\n",
              "             9: {(3, 6), (4, 5), (5, 4), (6, 3)},\n",
              "             10: {(4, 6), (5, 5), (6, 4)},\n",
              "             6: {(1, 5), (2, 4), (3, 3), (4, 2), (5, 1)},\n",
              "             8: {(2, 6), (3, 5), (4, 4), (5, 3), (6, 2)},\n",
              "             11: {(5, 6), (6, 5)},\n",
              "             3: {(1, 2), (2, 1)},\n",
              "             5: {(1, 4), (2, 3), (3, 2), (4, 1)},\n",
              "             2: {(1, 1)},\n",
              "             12: {(6, 6)}})"
            ]
          },
          "metadata": {},
          "execution_count": 26
        }
      ]
    },
    {
      "cell_type": "code",
      "source": [
        "leyY = {k : P(A,Omega) for k , A in dY.items() }\n",
        "leyY"
      ],
      "metadata": {
        "colab": {
          "base_uri": "https://localhost:8080/"
        },
        "id": "tS9EPmfYhlgQ",
        "outputId": "2de34822-2db3-4d5d-e4e1-cf22bd703c51"
      },
      "execution_count": 27,
      "outputs": [
        {
          "output_type": "execute_result",
          "data": {
            "text/plain": [
              "{7: Fraction(1, 6),\n",
              " 4: Fraction(1, 12),\n",
              " 9: Fraction(1, 9),\n",
              " 10: Fraction(1, 12),\n",
              " 6: Fraction(5, 36),\n",
              " 8: Fraction(5, 36),\n",
              " 11: Fraction(1, 18),\n",
              " 3: Fraction(1, 18),\n",
              " 5: Fraction(1, 9),\n",
              " 2: Fraction(1, 36),\n",
              " 12: Fraction(1, 36)}"
            ]
          },
          "metadata": {},
          "execution_count": 27
        }
      ]
    },
    {
      "cell_type": "code",
      "source": [
        "leyY = pd.Series(leyY)\n",
        "leyY = leyY.sort_index()"
      ],
      "metadata": {
        "id": "AzZl8LU_hsL1"
      },
      "execution_count": 28,
      "outputs": []
    },
    {
      "cell_type": "code",
      "source": [
        "leyY"
      ],
      "metadata": {
        "colab": {
          "base_uri": "https://localhost:8080/"
        },
        "id": "2OiEEjrZhw8d",
        "outputId": "89d99820-d478-4055-d844-131c01af853d"
      },
      "execution_count": 29,
      "outputs": [
        {
          "output_type": "execute_result",
          "data": {
            "text/plain": [
              "2     1/36\n",
              "3     1/18\n",
              "4     1/12\n",
              "5      1/9\n",
              "6     5/36\n",
              "7      1/6\n",
              "8     5/36\n",
              "9      1/9\n",
              "10    1/12\n",
              "11    1/18\n",
              "12    1/36\n",
              "dtype: object"
            ]
          },
          "metadata": {},
          "execution_count": 29
        }
      ]
    },
    {
      "cell_type": "markdown",
      "source": [
        "Verficaremos que:\n",
        "$$\\sum_{k\\in R_{Y}}\\mathbb{P}(X=x)=1.$$"
      ],
      "metadata": {
        "id": "enfPJ2tbiPrW"
      }
    },
    {
      "cell_type": "code",
      "source": [
        "leyY.sum()"
      ],
      "metadata": {
        "colab": {
          "base_uri": "https://localhost:8080/"
        },
        "id": "vLVhBi-ziT3O",
        "outputId": "1169f78b-ef70-4908-b54f-3b4c69e187ad"
      },
      "execution_count": 30,
      "outputs": [
        {
          "output_type": "execute_result",
          "data": {
            "text/plain": [
              "Fraction(1, 1)"
            ]
          },
          "metadata": {},
          "execution_count": 30
        }
      ]
    },
    {
      "cell_type": "markdown",
      "source": [
        "Ahora nos piden que la suma de las caras sean pares entonces:"
      ],
      "metadata": {
        "id": "Qo0YFuCKipGq"
      }
    },
    {
      "cell_type": "code",
      "source": [
        "Y1 = {(i,j): i + j for i,j in Omega if (i+j)% 2 == 0 }\n",
        "\n",
        "Y1"
      ],
      "metadata": {
        "colab": {
          "base_uri": "https://localhost:8080/"
        },
        "id": "GpkB3wIjiv0N",
        "outputId": "59d429e1-2b70-4195-a0d5-56b2245a4322"
      },
      "execution_count": 31,
      "outputs": [
        {
          "output_type": "execute_result",
          "data": {
            "text/plain": [
              "{(3, 1): 4,\n",
              " (4, 6): 10,\n",
              " (5, 1): 6,\n",
              " (2, 2): 4,\n",
              " (1, 3): 4,\n",
              " (6, 2): 8,\n",
              " (4, 2): 6,\n",
              " (3, 3): 6,\n",
              " (5, 3): 8,\n",
              " (2, 4): 6,\n",
              " (1, 5): 6,\n",
              " (6, 4): 10,\n",
              " (3, 5): 8,\n",
              " (4, 4): 8,\n",
              " (5, 5): 10,\n",
              " (1, 1): 2,\n",
              " (2, 6): 8,\n",
              " (6, 6): 12}"
            ]
          },
          "metadata": {},
          "execution_count": 31
        }
      ]
    },
    {
      "cell_type": "code",
      "source": [
        "dY1 = defaultdict(set)\n",
        "dY1"
      ],
      "metadata": {
        "colab": {
          "base_uri": "https://localhost:8080/"
        },
        "id": "wf27PZfmjne3",
        "outputId": "414e551f-0036-472a-d88b-579b7c64d3fb"
      },
      "execution_count": 32,
      "outputs": [
        {
          "output_type": "execute_result",
          "data": {
            "text/plain": [
              "defaultdict(set, {})"
            ]
          },
          "metadata": {},
          "execution_count": 32
        }
      ]
    },
    {
      "cell_type": "code",
      "source": [
        "for l, v in Y1.items():\n",
        "  dY1[v].add(l)"
      ],
      "metadata": {
        "id": "xsm8ciAQjrkc"
      },
      "execution_count": 33,
      "outputs": []
    },
    {
      "cell_type": "code",
      "source": [
        "dY1"
      ],
      "metadata": {
        "colab": {
          "base_uri": "https://localhost:8080/"
        },
        "id": "wMFaTz_5jwkL",
        "outputId": "294f62ec-8697-4619-f011-6fe684385b1a"
      },
      "execution_count": 34,
      "outputs": [
        {
          "output_type": "execute_result",
          "data": {
            "text/plain": [
              "defaultdict(set,\n",
              "            {4: {(1, 3), (2, 2), (3, 1)},\n",
              "             10: {(4, 6), (5, 5), (6, 4)},\n",
              "             6: {(1, 5), (2, 4), (3, 3), (4, 2), (5, 1)},\n",
              "             8: {(2, 6), (3, 5), (4, 4), (5, 3), (6, 2)},\n",
              "             2: {(1, 1)},\n",
              "             12: {(6, 6)}})"
            ]
          },
          "metadata": {},
          "execution_count": 34
        }
      ]
    },
    {
      "cell_type": "code",
      "source": [
        "leyY1 = {k : P(A,Omega) for k , A in dY1.items() }\n",
        "leyY1"
      ],
      "metadata": {
        "colab": {
          "base_uri": "https://localhost:8080/"
        },
        "id": "lC1bPWOmj2NW",
        "outputId": "071d2077-952c-4000-b84a-1d748705ebef"
      },
      "execution_count": 35,
      "outputs": [
        {
          "output_type": "execute_result",
          "data": {
            "text/plain": [
              "{4: Fraction(1, 12),\n",
              " 10: Fraction(1, 12),\n",
              " 6: Fraction(5, 36),\n",
              " 8: Fraction(5, 36),\n",
              " 2: Fraction(1, 36),\n",
              " 12: Fraction(1, 36)}"
            ]
          },
          "metadata": {},
          "execution_count": 35
        }
      ]
    },
    {
      "cell_type": "code",
      "source": [
        "leyY1 = pd.Series(leyY1)\n",
        "leyY1 = leyY1.sort_index()"
      ],
      "metadata": {
        "id": "AhCLwzhQj8Cj"
      },
      "execution_count": 36,
      "outputs": []
    },
    {
      "cell_type": "markdown",
      "source": [
        "Estas son las sumas de las caras donde el resultado es impar"
      ],
      "metadata": {
        "id": "I1TcMs9gkM1p"
      }
    },
    {
      "cell_type": "code",
      "source": [
        "leyY1"
      ],
      "metadata": {
        "colab": {
          "base_uri": "https://localhost:8080/"
        },
        "id": "-BgEjykNkC2c",
        "outputId": "b6be9171-78a3-4a17-d538-6c98bb44c176"
      },
      "execution_count": 37,
      "outputs": [
        {
          "output_type": "execute_result",
          "data": {
            "text/plain": [
              "2     1/36\n",
              "4     1/12\n",
              "6     5/36\n",
              "8     5/36\n",
              "10    1/12\n",
              "12    1/36\n",
              "dtype: object"
            ]
          },
          "metadata": {},
          "execution_count": 37
        }
      ]
    },
    {
      "cell_type": "markdown",
      "source": [
        "Ahora para sacar P(Q=numero par) es:"
      ],
      "metadata": {
        "id": "u4Rq7IQQkacY"
      }
    },
    {
      "cell_type": "code",
      "source": [
        "leyY1.sum()"
      ],
      "metadata": {
        "colab": {
          "base_uri": "https://localhost:8080/"
        },
        "id": "1VthBFMlkU91",
        "outputId": "ad11142a-d681-4755-da80-c8bd9b86f1a5"
      },
      "execution_count": 38,
      "outputs": [
        {
          "output_type": "execute_result",
          "data": {
            "text/plain": [
              "Fraction(1, 2)"
            ]
          },
          "metadata": {},
          "execution_count": 38
        }
      ]
    }
  ]
}